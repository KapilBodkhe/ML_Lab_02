{
  "nbformat": 4,
  "nbformat_minor": 0,
  "metadata": {
    "colab": {
      "provenance": []
    },
    "kernelspec": {
      "name": "python3",
      "display_name": "Python 3"
    },
    "language_info": {
      "name": "python"
    }
  },
  "cells": [
    {
      "cell_type": "code",
      "execution_count": null,
      "metadata": {
        "id": "B4CY1F5G43I5"
      },
      "outputs": [],
      "source": []
    },
    {
      "cell_type": "code",
      "source": [
        "import numpy as np\n",
        "import pandas as pd\n",
        "import matplotlib.pyplot as plt\n",
        "%matplotlib inline"
      ],
      "metadata": {
        "id": "jMpr_Cm05WVl"
      },
      "execution_count": 1,
      "outputs": []
    },
    {
      "cell_type": "code",
      "source": [
        "data=pd.read_csv(\"/content/ex1data1.csv\",names=[\"Population\",\"Profit\"])\n",
        "print(data)"
      ],
      "metadata": {
        "colab": {
          "base_uri": "https://localhost:8080/"
        },
        "id": "wl8hj49i5cWV",
        "outputId": "64a7d898-fee4-44ce-da89-397593810bb5"
      },
      "execution_count": 2,
      "outputs": [
        {
          "output_type": "stream",
          "name": "stdout",
          "text": [
            "    Population    Profit\n",
            "0       6.1101  17.59200\n",
            "1       5.5277   9.13020\n",
            "2       8.5186  13.66200\n",
            "3       7.0032  11.85400\n",
            "4       5.8598   6.82330\n",
            "..         ...       ...\n",
            "92      5.8707   7.20290\n",
            "93      5.3054   1.98690\n",
            "94      8.2934   0.14454\n",
            "95     13.3940   9.05510\n",
            "96      5.4369   0.61705\n",
            "\n",
            "[97 rows x 2 columns]\n"
          ]
        }
      ]
    },
    {
      "cell_type": "code",
      "source": [
        "data.describe()"
      ],
      "metadata": {
        "id": "Wrz5jWRT8XQa",
        "colab": {
          "base_uri": "https://localhost:8080/",
          "height": 300
        },
        "outputId": "c51ca910-8eea-4c7c-a1dd-87acdbe27762"
      },
      "execution_count": 3,
      "outputs": [
        {
          "output_type": "execute_result",
          "data": {
            "text/plain": [
              "       Population     Profit\n",
              "count   97.000000  97.000000\n",
              "mean     8.159800   5.839135\n",
              "std      3.869884   5.510262\n",
              "min      5.026900  -2.680700\n",
              "25%      5.707700   1.986900\n",
              "50%      6.589400   4.562300\n",
              "75%      8.578100   7.046700\n",
              "max     22.203000  24.147000"
            ],
            "text/html": [
              "\n",
              "  <div id=\"df-e195b26a-3875-495b-ae1f-69c3335df552\" class=\"colab-df-container\">\n",
              "    <div>\n",
              "<style scoped>\n",
              "    .dataframe tbody tr th:only-of-type {\n",
              "        vertical-align: middle;\n",
              "    }\n",
              "\n",
              "    .dataframe tbody tr th {\n",
              "        vertical-align: top;\n",
              "    }\n",
              "\n",
              "    .dataframe thead th {\n",
              "        text-align: right;\n",
              "    }\n",
              "</style>\n",
              "<table border=\"1\" class=\"dataframe\">\n",
              "  <thead>\n",
              "    <tr style=\"text-align: right;\">\n",
              "      <th></th>\n",
              "      <th>Population</th>\n",
              "      <th>Profit</th>\n",
              "    </tr>\n",
              "  </thead>\n",
              "  <tbody>\n",
              "    <tr>\n",
              "      <th>count</th>\n",
              "      <td>97.000000</td>\n",
              "      <td>97.000000</td>\n",
              "    </tr>\n",
              "    <tr>\n",
              "      <th>mean</th>\n",
              "      <td>8.159800</td>\n",
              "      <td>5.839135</td>\n",
              "    </tr>\n",
              "    <tr>\n",
              "      <th>std</th>\n",
              "      <td>3.869884</td>\n",
              "      <td>5.510262</td>\n",
              "    </tr>\n",
              "    <tr>\n",
              "      <th>min</th>\n",
              "      <td>5.026900</td>\n",
              "      <td>-2.680700</td>\n",
              "    </tr>\n",
              "    <tr>\n",
              "      <th>25%</th>\n",
              "      <td>5.707700</td>\n",
              "      <td>1.986900</td>\n",
              "    </tr>\n",
              "    <tr>\n",
              "      <th>50%</th>\n",
              "      <td>6.589400</td>\n",
              "      <td>4.562300</td>\n",
              "    </tr>\n",
              "    <tr>\n",
              "      <th>75%</th>\n",
              "      <td>8.578100</td>\n",
              "      <td>7.046700</td>\n",
              "    </tr>\n",
              "    <tr>\n",
              "      <th>max</th>\n",
              "      <td>22.203000</td>\n",
              "      <td>24.147000</td>\n",
              "    </tr>\n",
              "  </tbody>\n",
              "</table>\n",
              "</div>\n",
              "    <div class=\"colab-df-buttons\">\n",
              "\n",
              "  <div class=\"colab-df-container\">\n",
              "    <button class=\"colab-df-convert\" onclick=\"convertToInteractive('df-e195b26a-3875-495b-ae1f-69c3335df552')\"\n",
              "            title=\"Convert this dataframe to an interactive table.\"\n",
              "            style=\"display:none;\">\n",
              "\n",
              "  <svg xmlns=\"http://www.w3.org/2000/svg\" height=\"24px\" viewBox=\"0 -960 960 960\">\n",
              "    <path d=\"M120-120v-720h720v720H120Zm60-500h600v-160H180v160Zm220 220h160v-160H400v160Zm0 220h160v-160H400v160ZM180-400h160v-160H180v160Zm440 0h160v-160H620v160ZM180-180h160v-160H180v160Zm440 0h160v-160H620v160Z\"/>\n",
              "  </svg>\n",
              "    </button>\n",
              "\n",
              "  <style>\n",
              "    .colab-df-container {\n",
              "      display:flex;\n",
              "      gap: 12px;\n",
              "    }\n",
              "\n",
              "    .colab-df-convert {\n",
              "      background-color: #E8F0FE;\n",
              "      border: none;\n",
              "      border-radius: 50%;\n",
              "      cursor: pointer;\n",
              "      display: none;\n",
              "      fill: #1967D2;\n",
              "      height: 32px;\n",
              "      padding: 0 0 0 0;\n",
              "      width: 32px;\n",
              "    }\n",
              "\n",
              "    .colab-df-convert:hover {\n",
              "      background-color: #E2EBFA;\n",
              "      box-shadow: 0px 1px 2px rgba(60, 64, 67, 0.3), 0px 1px 3px 1px rgba(60, 64, 67, 0.15);\n",
              "      fill: #174EA6;\n",
              "    }\n",
              "\n",
              "    .colab-df-buttons div {\n",
              "      margin-bottom: 4px;\n",
              "    }\n",
              "\n",
              "    [theme=dark] .colab-df-convert {\n",
              "      background-color: #3B4455;\n",
              "      fill: #D2E3FC;\n",
              "    }\n",
              "\n",
              "    [theme=dark] .colab-df-convert:hover {\n",
              "      background-color: #434B5C;\n",
              "      box-shadow: 0px 1px 3px 1px rgba(0, 0, 0, 0.15);\n",
              "      filter: drop-shadow(0px 1px 2px rgba(0, 0, 0, 0.3));\n",
              "      fill: #FFFFFF;\n",
              "    }\n",
              "  </style>\n",
              "\n",
              "    <script>\n",
              "      const buttonEl =\n",
              "        document.querySelector('#df-e195b26a-3875-495b-ae1f-69c3335df552 button.colab-df-convert');\n",
              "      buttonEl.style.display =\n",
              "        google.colab.kernel.accessAllowed ? 'block' : 'none';\n",
              "\n",
              "      async function convertToInteractive(key) {\n",
              "        const element = document.querySelector('#df-e195b26a-3875-495b-ae1f-69c3335df552');\n",
              "        const dataTable =\n",
              "          await google.colab.kernel.invokeFunction('convertToInteractive',\n",
              "                                                    [key], {});\n",
              "        if (!dataTable) return;\n",
              "\n",
              "        const docLinkHtml = 'Like what you see? Visit the ' +\n",
              "          '<a target=\"_blank\" href=https://colab.research.google.com/notebooks/data_table.ipynb>data table notebook</a>'\n",
              "          + ' to learn more about interactive tables.';\n",
              "        element.innerHTML = '';\n",
              "        dataTable['output_type'] = 'display_data';\n",
              "        await google.colab.output.renderOutput(dataTable, element);\n",
              "        const docLink = document.createElement('div');\n",
              "        docLink.innerHTML = docLinkHtml;\n",
              "        element.appendChild(docLink);\n",
              "      }\n",
              "    </script>\n",
              "  </div>\n",
              "\n",
              "\n",
              "<div id=\"df-568ce46f-7f80-44cd-8852-74f852e1f08f\">\n",
              "  <button class=\"colab-df-quickchart\" onclick=\"quickchart('df-568ce46f-7f80-44cd-8852-74f852e1f08f')\"\n",
              "            title=\"Suggest charts\"\n",
              "            style=\"display:none;\">\n",
              "\n",
              "<svg xmlns=\"http://www.w3.org/2000/svg\" height=\"24px\"viewBox=\"0 0 24 24\"\n",
              "     width=\"24px\">\n",
              "    <g>\n",
              "        <path d=\"M19 3H5c-1.1 0-2 .9-2 2v14c0 1.1.9 2 2 2h14c1.1 0 2-.9 2-2V5c0-1.1-.9-2-2-2zM9 17H7v-7h2v7zm4 0h-2V7h2v10zm4 0h-2v-4h2v4z\"/>\n",
              "    </g>\n",
              "</svg>\n",
              "  </button>\n",
              "\n",
              "<style>\n",
              "  .colab-df-quickchart {\n",
              "      --bg-color: #E8F0FE;\n",
              "      --fill-color: #1967D2;\n",
              "      --hover-bg-color: #E2EBFA;\n",
              "      --hover-fill-color: #174EA6;\n",
              "      --disabled-fill-color: #AAA;\n",
              "      --disabled-bg-color: #DDD;\n",
              "  }\n",
              "\n",
              "  [theme=dark] .colab-df-quickchart {\n",
              "      --bg-color: #3B4455;\n",
              "      --fill-color: #D2E3FC;\n",
              "      --hover-bg-color: #434B5C;\n",
              "      --hover-fill-color: #FFFFFF;\n",
              "      --disabled-bg-color: #3B4455;\n",
              "      --disabled-fill-color: #666;\n",
              "  }\n",
              "\n",
              "  .colab-df-quickchart {\n",
              "    background-color: var(--bg-color);\n",
              "    border: none;\n",
              "    border-radius: 50%;\n",
              "    cursor: pointer;\n",
              "    display: none;\n",
              "    fill: var(--fill-color);\n",
              "    height: 32px;\n",
              "    padding: 0;\n",
              "    width: 32px;\n",
              "  }\n",
              "\n",
              "  .colab-df-quickchart:hover {\n",
              "    background-color: var(--hover-bg-color);\n",
              "    box-shadow: 0 1px 2px rgba(60, 64, 67, 0.3), 0 1px 3px 1px rgba(60, 64, 67, 0.15);\n",
              "    fill: var(--button-hover-fill-color);\n",
              "  }\n",
              "\n",
              "  .colab-df-quickchart-complete:disabled,\n",
              "  .colab-df-quickchart-complete:disabled:hover {\n",
              "    background-color: var(--disabled-bg-color);\n",
              "    fill: var(--disabled-fill-color);\n",
              "    box-shadow: none;\n",
              "  }\n",
              "\n",
              "  .colab-df-spinner {\n",
              "    border: 2px solid var(--fill-color);\n",
              "    border-color: transparent;\n",
              "    border-bottom-color: var(--fill-color);\n",
              "    animation:\n",
              "      spin 1s steps(1) infinite;\n",
              "  }\n",
              "\n",
              "  @keyframes spin {\n",
              "    0% {\n",
              "      border-color: transparent;\n",
              "      border-bottom-color: var(--fill-color);\n",
              "      border-left-color: var(--fill-color);\n",
              "    }\n",
              "    20% {\n",
              "      border-color: transparent;\n",
              "      border-left-color: var(--fill-color);\n",
              "      border-top-color: var(--fill-color);\n",
              "    }\n",
              "    30% {\n",
              "      border-color: transparent;\n",
              "      border-left-color: var(--fill-color);\n",
              "      border-top-color: var(--fill-color);\n",
              "      border-right-color: var(--fill-color);\n",
              "    }\n",
              "    40% {\n",
              "      border-color: transparent;\n",
              "      border-right-color: var(--fill-color);\n",
              "      border-top-color: var(--fill-color);\n",
              "    }\n",
              "    60% {\n",
              "      border-color: transparent;\n",
              "      border-right-color: var(--fill-color);\n",
              "    }\n",
              "    80% {\n",
              "      border-color: transparent;\n",
              "      border-right-color: var(--fill-color);\n",
              "      border-bottom-color: var(--fill-color);\n",
              "    }\n",
              "    90% {\n",
              "      border-color: transparent;\n",
              "      border-bottom-color: var(--fill-color);\n",
              "    }\n",
              "  }\n",
              "</style>\n",
              "\n",
              "  <script>\n",
              "    async function quickchart(key) {\n",
              "      const quickchartButtonEl =\n",
              "        document.querySelector('#' + key + ' button');\n",
              "      quickchartButtonEl.disabled = true;  // To prevent multiple clicks.\n",
              "      quickchartButtonEl.classList.add('colab-df-spinner');\n",
              "      try {\n",
              "        const charts = await google.colab.kernel.invokeFunction(\n",
              "            'suggestCharts', [key], {});\n",
              "      } catch (error) {\n",
              "        console.error('Error during call to suggestCharts:', error);\n",
              "      }\n",
              "      quickchartButtonEl.classList.remove('colab-df-spinner');\n",
              "      quickchartButtonEl.classList.add('colab-df-quickchart-complete');\n",
              "    }\n",
              "    (() => {\n",
              "      let quickchartButtonEl =\n",
              "        document.querySelector('#df-568ce46f-7f80-44cd-8852-74f852e1f08f button');\n",
              "      quickchartButtonEl.style.display =\n",
              "        google.colab.kernel.accessAllowed ? 'block' : 'none';\n",
              "    })();\n",
              "  </script>\n",
              "</div>\n",
              "\n",
              "    </div>\n",
              "  </div>\n"
            ],
            "application/vnd.google.colaboratory.intrinsic+json": {
              "type": "dataframe",
              "summary": "{\n  \"name\": \"data\",\n  \"rows\": 8,\n  \"fields\": [\n    {\n      \"column\": \"Population\",\n      \"properties\": {\n        \"dtype\": \"number\",\n        \"std\": 31.784914602764157,\n        \"min\": 3.869883527882332,\n        \"max\": 97.0,\n        \"num_unique_values\": 8,\n        \"samples\": [\n          8.159799999999999,\n          6.5894,\n          97.0\n        ],\n        \"semantic_type\": \"\",\n        \"description\": \"\"\n      }\n    },\n    {\n      \"column\": \"Profit\",\n      \"properties\": {\n        \"dtype\": \"number\",\n        \"std\": 32.87917231164401,\n        \"min\": -2.6807,\n        \"max\": 97.0,\n        \"num_unique_values\": 8,\n        \"samples\": [\n          5.839135051546393,\n          4.5623,\n          97.0\n        ],\n        \"semantic_type\": \"\",\n        \"description\": \"\"\n      }\n    }\n  ]\n}"
            }
          },
          "metadata": {},
          "execution_count": 3
        }
      ]
    },
    {
      "cell_type": "code",
      "source": [],
      "metadata": {
        "id": "PqnEPcuI9KrD"
      },
      "execution_count": 3,
      "outputs": []
    },
    {
      "cell_type": "code",
      "source": [
        "data.plot(kind='scatter',x=\"Population\",y=\"Profit\",figsize=(8,6))"
      ],
      "metadata": {
        "id": "YPSXf7lO8ZPC",
        "colab": {
          "base_uri": "https://localhost:8080/",
          "height": 547
        },
        "outputId": "f38ec573-a443-4d90-8b50-e6e47a849a47"
      },
      "execution_count": 4,
      "outputs": [
        {
          "output_type": "execute_result",
          "data": {
            "text/plain": [
              "<Axes: xlabel='Population', ylabel='Profit'>"
            ]
          },
          "metadata": {},
          "execution_count": 4
        },
        {
          "output_type": "display_data",
          "data": {
            "text/plain": [
              "<Figure size 800x600 with 1 Axes>"
            ],
            "image/png": "[encoded data removed]"
          },
          "metadata": {}
        }
      ]
    },
    {
      "cell_type": "code",
      "source": [
        "data.shape"
      ],
      "metadata": {
        "id": "0siC0u7O8ZSd",
        "colab": {
          "base_uri": "https://localhost:8080/"
        },
        "outputId": "9771900e-68cd-43fc-8d31-cac37b84c995"
      },
      "execution_count": 5,
      "outputs": [
        {
          "output_type": "execute_result",
          "data": {
            "text/plain": [
              "(97, 2)"
            ]
          },
          "metadata": {},
          "execution_count": 5
        }
      ]
    },
    {
      "cell_type": "code",
      "source": [
        "data.shape[0]"
      ],
      "metadata": {
        "id": "sG0mPO8m-Ggl",
        "colab": {
          "base_uri": "https://localhost:8080/"
        },
        "outputId": "23db8add-5371-482f-8e72-a46ca3b8b053"
      },
      "execution_count": 6,
      "outputs": [
        {
          "output_type": "execute_result",
          "data": {
            "text/plain": [
              "97"
            ]
          },
          "metadata": {},
          "execution_count": 6
        }
      ]
    },
    {
      "cell_type": "code",
      "source": [
        "data.shape[1]"
      ],
      "metadata": {
        "id": "od2qYPQ1-J5j",
        "colab": {
          "base_uri": "https://localhost:8080/"
        },
        "outputId": "3cdd6143-6f08-4c75-f242-54005bebde60"
      },
      "execution_count": 7,
      "outputs": [
        {
          "output_type": "execute_result",
          "data": {
            "text/plain": [
              "2"
            ]
          },
          "metadata": {},
          "execution_count": 7
        }
      ]
    },
    {
      "cell_type": "code",
      "source": [
        "data.insert(0,\"ones\",1)"
      ],
      "metadata": {
        "id": "oVjA2uCfAAgT"
      },
      "execution_count": 8,
      "outputs": []
    },
    {
      "cell_type": "code",
      "source": [
        "cols=data.shape[1]\n",
        "X = data.iloc[:,0:cols-1]\n",
        "Y = data.iloc[: , cols-1:cols]"
      ],
      "metadata": {
        "id": "Yj-XvqFQ-ctj"
      },
      "execution_count": 9,
      "outputs": []
    },
    {
      "cell_type": "code",
      "source": [
        "data.shape\n"
      ],
      "metadata": {
        "id": "jY-lueTB_hSv",
        "colab": {
          "base_uri": "https://localhost:8080/"
        },
        "outputId": "92d85f3a-49d0-4c26-85f9-9a871922a6da"
      },
      "execution_count": 10,
      "outputs": [
        {
          "output_type": "execute_result",
          "data": {
            "text/plain": [
              "(97, 3)"
            ]
          },
          "metadata": {},
          "execution_count": 10
        }
      ]
    },
    {
      "cell_type": "code",
      "source": [
        "print(data)\n"
      ],
      "metadata": {
        "id": "uSLV2oW5Akut",
        "colab": {
          "base_uri": "https://localhost:8080/"
        },
        "outputId": "018ee829-0d88-4291-9958-f8952fa98503"
      },
      "execution_count": 11,
      "outputs": [
        {
          "output_type": "stream",
          "name": "stdout",
          "text": [
            "    ones  Population    Profit\n",
            "0      1      6.1101  17.59200\n",
            "1      1      5.5277   9.13020\n",
            "2      1      8.5186  13.66200\n",
            "3      1      7.0032  11.85400\n",
            "4      1      5.8598   6.82330\n",
            "..   ...         ...       ...\n",
            "92     1      5.8707   7.20290\n",
            "93     1      5.3054   1.98690\n",
            "94     1      8.2934   0.14454\n",
            "95     1     13.3940   9.05510\n",
            "96     1      5.4369   0.61705\n",
            "\n",
            "[97 rows x 3 columns]\n"
          ]
        }
      ]
    },
    {
      "cell_type": "code",
      "source": [
        "x_matrix=np.matrix(X.values)\n",
        "y_matrix=np.matrix(Y.values)\n",
        "theta = np.matrix(np.array([0,0]))\n",
        "\n",
        "print(theta)\n",
        "print(x_matrix)\n",
        "print(y_matrix)\n",
        "y_matrix.shape\n",
        "x_matrix.shape\n"
      ],
      "metadata": {
        "id": "xr_vn8g0A4_o",
        "colab": {
          "base_uri": "https://localhost:8080/"
        },
        "outputId": "0fa8fcc8-7f45-4dbd-e835-e121dbda3af1"
      },
      "execution_count": 12,
      "outputs": [
        {
          "output_type": "stream",
          "name": "stdout",
          "text": [
            "[[0 0]]\n",
            "[[ 1.      6.1101]\n",
            " [ 1.      5.5277]\n",
            " [ 1.      8.5186]\n",
            " [ 1.      7.0032]\n",
            " [ 1.      5.8598]\n",
            " [ 1.      8.3829]\n",
            " [ 1.      7.4764]\n",
            " [ 1.      8.5781]\n",
            " [ 1.      6.4862]\n",
            " [ 1.      5.0546]\n",
            " [ 1.      5.7107]\n",
            " [ 1.     14.164 ]\n",
            " [ 1.      5.734 ]\n",
            " [ 1.      8.4084]\n",
            " [ 1.      5.6407]\n",
            " [ 1.      5.3794]\n",
            " [ 1.      6.3654]\n",
            " [ 1.      5.1301]\n",
            " [ 1.      6.4296]\n",
            " [ 1.      7.0708]\n",
            " [ 1.      6.1891]\n",
            " [ 1.     20.27  ]\n",
            " [ 1.      5.4901]\n",
            " [ 1.      6.3261]\n",
            " [ 1.      5.5649]\n",
            " [ 1.     18.945 ]\n",
            " [ 1.     12.828 ]\n",
            " [ 1.     10.957 ]\n",
            " [ 1.     13.176 ]\n",
            " [ 1.     22.203 ]\n",
            " [ 1.      5.2524]\n",
            " [ 1.      6.5894]\n",
            " [ 1.      9.2482]\n",
            " [ 1.      5.8918]\n",
            " [ 1.      8.2111]\n",
            " [ 1.      7.9334]\n",
            " [ 1.      8.0959]\n",
            " [ 1.      5.6063]\n",
            " [ 1.     12.836 ]\n",
            " [ 1.      6.3534]\n",
            " [ 1.      5.4069]\n",
            " [ 1.      6.8825]\n",
            " [ 1.     11.708 ]\n",
            " [ 1.      5.7737]\n",
            " [ 1.      7.8247]\n",
            " [ 1.      7.0931]\n",
            " [ 1.      5.0702]\n",
            " [ 1.      5.8014]\n",
            " [ 1.     11.7   ]\n",
            " [ 1.      5.5416]\n",
            " [ 1.      7.5402]\n",
            " [ 1.      5.3077]\n",
            " [ 1.      7.4239]\n",
            " [ 1.      7.6031]\n",
            " [ 1.      6.3328]\n",
            " [ 1.      6.3589]\n",
            " [ 1.      6.2742]\n",
            " [ 1.      5.6397]\n",
            " [ 1.      9.3102]\n",
            " [ 1.      9.4536]\n",
            " [ 1.      8.8254]\n",
            " [ 1.      5.1793]\n",
            " [ 1.     21.279 ]\n",
            " [ 1.     14.908 ]\n",
            " [ 1.     18.959 ]\n",
            " [ 1.      7.2182]\n",
            " [ 1.      8.2951]\n",
            " [ 1.     10.236 ]\n",
            " [ 1.      5.4994]\n",
            " [ 1.     20.341 ]\n",
            " [ 1.     10.136 ]\n",
            " [ 1.      7.3345]\n",
            " [ 1.      6.0062]\n",
            " [ 1.      7.2259]\n",
            " [ 1.      5.0269]\n",
            " [ 1.      6.5479]\n",
            " [ 1.      7.5386]\n",
            " [ 1.      5.0365]\n",
            " [ 1.     10.274 ]\n",
            " [ 1.      5.1077]\n",
            " [ 1.      5.7292]\n",
            " [ 1.      5.1884]\n",
            " [ 1.      6.3557]\n",
            " [ 1.      9.7687]\n",
            " [ 1.      6.5159]\n",
            " [ 1.      8.5172]\n",
            " [ 1.      9.1802]\n",
            " [ 1.      6.002 ]\n",
            " [ 1.      5.5204]\n",
            " [ 1.      5.0594]\n",
            " [ 1.      5.7077]\n",
            " [ 1.      7.6366]\n",
            " [ 1.      5.8707]\n",
            " [ 1.      5.3054]\n",
            " [ 1.      8.2934]\n",
            " [ 1.     13.394 ]\n",
            " [ 1.      5.4369]]\n",
            "[[17.592  ]\n",
            " [ 9.1302 ]\n",
            " [13.662  ]\n",
            " [11.854  ]\n",
            " [ 6.8233 ]\n",
            " [11.886  ]\n",
            " [ 4.3483 ]\n",
            " [12.     ]\n",
            " [ 6.5987 ]\n",
            " [ 3.8166 ]\n",
            " [ 3.2522 ]\n",
            " [15.505  ]\n",
            " [ 3.1551 ]\n",
            " [ 7.2258 ]\n",
            " [ 0.71618]\n",
            " [ 3.5129 ]\n",
            " [ 5.3048 ]\n",
            " [ 0.56077]\n",
            " [ 3.6518 ]\n",
            " [ 5.3893 ]\n",
            " [ 3.1386 ]\n",
            " [21.767  ]\n",
            " [ 4.263  ]\n",
            " [ 5.1875 ]\n",
            " [ 3.0825 ]\n",
            " [22.638  ]\n",
            " [13.501  ]\n",
            " [ 7.0467 ]\n",
            " [14.692  ]\n",
            " [24.147  ]\n",
            " [-1.22   ]\n",
            " [ 5.9966 ]\n",
            " [12.134  ]\n",
            " [ 1.8495 ]\n",
            " [ 6.5426 ]\n",
            " [ 4.5623 ]\n",
            " [ 4.1164 ]\n",
            " [ 3.3928 ]\n",
            " [10.117  ]\n",
            " [ 5.4974 ]\n",
            " [ 0.55657]\n",
            " [ 3.9115 ]\n",
            " [ 5.3854 ]\n",
            " [ 2.4406 ]\n",
            " [ 6.7318 ]\n",
            " [ 1.0463 ]\n",
            " [ 5.1337 ]\n",
            " [ 1.844  ]\n",
            " [ 8.0043 ]\n",
            " [ 1.0179 ]\n",
            " [ 6.7504 ]\n",
            " [ 1.8396 ]\n",
            " [ 4.2885 ]\n",
            " [ 4.9981 ]\n",
            " [ 1.4233 ]\n",
            " [-1.4211 ]\n",
            " [ 2.4756 ]\n",
            " [ 4.6042 ]\n",
            " [ 3.9624 ]\n",
            " [ 5.4141 ]\n",
            " [ 5.1694 ]\n",
            " [-0.74279]\n",
            " [17.929  ]\n",
            " [12.054  ]\n",
            " [17.054  ]\n",
            " [ 4.8852 ]\n",
            " [ 5.7442 ]\n",
            " [ 7.7754 ]\n",
            " [ 1.0173 ]\n",
            " [20.992  ]\n",
            " [ 6.6799 ]\n",
            " [ 4.0259 ]\n",
            " [ 1.2784 ]\n",
            " [ 3.3411 ]\n",
            " [-2.6807 ]\n",
            " [ 0.29678]\n",
            " [ 3.8845 ]\n",
            " [ 5.7014 ]\n",
            " [ 6.7526 ]\n",
            " [ 2.0576 ]\n",
            " [ 0.47953]\n",
            " [ 0.20421]\n",
            " [ 0.67861]\n",
            " [ 7.5435 ]\n",
            " [ 5.3436 ]\n",
            " [ 4.2415 ]\n",
            " [ 6.7981 ]\n",
            " [ 0.92695]\n",
            " [ 0.152  ]\n",
            " [ 2.8214 ]\n",
            " [ 1.8451 ]\n",
            " [ 4.2959 ]\n",
            " [ 7.2029 ]\n",
            " [ 1.9869 ]\n",
            " [ 0.14454]\n",
            " [ 9.0551 ]\n",
            " [ 0.61705]]\n"
          ]
        },
        {
          "output_type": "execute_result",
          "data": {
            "text/plain": [
              "(97, 2)"
            ]
          },
          "metadata": {},
          "execution_count": 12
        }
      ]
    },
    {
      "cell_type": "code",
      "source": [
        "theta.shape"
      ],
      "metadata": {
        "id": "UFuEgDpkB7Eo",
        "colab": {
          "base_uri": "https://localhost:8080/"
        },
        "outputId": "fbad240e-1c6a-4ff2-adba-75df0f2b41e1"
      },
      "execution_count": 13,
      "outputs": [
        {
          "output_type": "execute_result",
          "data": {
            "text/plain": [
              "(1, 2)"
            ]
          },
          "metadata": {},
          "execution_count": 13
        }
      ]
    },
    {
      "cell_type": "code",
      "source": [
        "X.shape\n"
      ],
      "metadata": {
        "id": "owpXe-RlEOI3",
        "colab": {
          "base_uri": "https://localhost:8080/"
        },
        "outputId": "66cd3cb9-f868-4346-b839-75d18e89e92d"
      },
      "execution_count": 14,
      "outputs": [
        {
          "output_type": "execute_result",
          "data": {
            "text/plain": [
              "(97, 2)"
            ]
          },
          "metadata": {},
          "execution_count": 14
        }
      ]
    },
    {
      "cell_type": "code",
      "source": [
        "theta.T.shape"
      ],
      "metadata": {
        "id": "18zmkurpEWzz",
        "colab": {
          "base_uri": "https://localhost:8080/"
        },
        "outputId": "996a56ee-1c92-4e26-9fdf-0f2a0a65b3a3"
      },
      "execution_count": 15,
      "outputs": [
        {
          "output_type": "execute_result",
          "data": {
            "text/plain": [
              "(2, 1)"
            ]
          },
          "metadata": {},
          "execution_count": 15
        }
      ]
    },
    {
      "cell_type": "code",
      "source": [
        "def costFun(X, y, theta):\n",
        "\n",
        "  m = len(y)  # Number of training examples\n",
        "\n",
        "  # Calculate the predictions (hypothesis)\n",
        "  predictions = X.dot(theta.T)\n",
        "\n",
        "  # Calculate the squared errors\n",
        "  squared_errors = np.square(predictions - y)\n",
        "\n",
        "  # Calculate the cost\n",
        "  cost = np.sum(squared_errors) / (2 * m)\n",
        "\n",
        "  return cost"
      ],
      "metadata": {
        "id": "eeBCu8JYJiA2"
      },
      "execution_count": 23,
      "outputs": []
    },
    {
      "cell_type": "code",
      "source": [
        "print(costFun(x_matrix,y_matrix,theta))"
      ],
      "metadata": {
        "id": "Y_YeEIAIKCTx",
        "colab": {
          "base_uri": "https://localhost:8080/"
        },
        "outputId": "c167f8da-f3be-49e1-de65-8aacac038da9"
      },
      "execution_count": 24,
      "outputs": [
        {
          "output_type": "stream",
          "name": "stdout",
          "text": [
            "32.072733877455676\n"
          ]
        }
      ]
    },
    {
      "cell_type": "code",
      "source": [
        "def gradientDescent(x, y, theta, alpha, iterations):\n",
        "  temp=np.matrix(np.zeros(theta.shape))\n",
        "  parameters=int(theta.shape[1])\n",
        "  cost=np.zeros(iterations)\n",
        "  for i in range(iterations):\n",
        "    error=(x * theta.T)-y\n",
        "    for j in range(parameters):\n",
        "      term=np.multiply(error,x[:,j])\n",
        "\n",
        "      temp[0,j]=theta[0,j]-((alpha/len(x))*np.sum(term))\n",
        "    theta=temp\n",
        "    cost[i]=costFun(x,y,theta)\n",
        "  return theta,cost"
      ],
      "metadata": {
        "id": "cLPj-34ELOqf"
      },
      "execution_count": 28,
      "outputs": []
    },
    {
      "cell_type": "code",
      "source": [
        "alpha=0.001\n",
        "iterations=1000"
      ],
      "metadata": {
        "id": "ZSqBBkuJLRkO"
      },
      "execution_count": 29,
      "outputs": []
    },
    {
      "cell_type": "code",
      "source": [
        "Theta,C=gradientDescent(x_matrix,y_matrix,theta=theta,alpha=alpha,iterations=iterations)\n",
        "Theta"
      ],
      "metadata": {
        "id": "TK3cnDh7OPT5",
        "colab": {
          "base_uri": "https://localhost:8080/"
        },
        "outputId": "022e8573-b726-4da6-cb9c-987a2a38643f"
      },
      "execution_count": 30,
      "outputs": [
        {
          "output_type": "execute_result",
          "data": {
            "text/plain": [
              "matrix([[-0.57607021,  0.8595327 ]])"
            ]
          },
          "metadata": {},
          "execution_count": 30
        }
      ]
    },
    {
      "cell_type": "code",
      "source": [
        "print(gradientDescent(x_matrix,y_matrix,theta,alpha,iterations))"
      ],
      "metadata": {
        "id": "XT3Eq96YLhT2",
        "colab": {
          "base_uri": "https://localhost:8080/"
        },
        "outputId": "d483cb2e-e610-447f-8661-1d73e8a96697"
      },
      "execution_count": 31,
      "outputs": [
        {
          "output_type": "stream",
          "name": "stdout",
          "text": [
            "(matrix([[-0.57607021,  0.8595327 ]]), array([27.94761975, 24.47289937, 21.54601437, 19.08057847, 17.00382734,\n",
            "       15.25447061, 13.7808826 , 12.5395783 , 11.49392969, 10.61308452,\n",
            "        9.87105552,  9.24595327,  8.71934001,  8.27568536,  7.90190791,\n",
            "        7.58698897,  7.32164737,  7.09806546,  6.90965833,  6.75087941,\n",
            "        6.61705675,  6.50425513,  6.40915982,  6.32897881,  6.26136035,\n",
            "        6.20432352,  6.15619976,  6.11558363,  6.08129131,  6.05232565,\n",
            "        6.02784674,  6.00714709,  5.98963081,  5.97479594,  5.9622197 ,\n",
            "        5.95154595,  5.94247473,  5.93475337,  5.92816904,  5.92254248,\n",
            "        5.91772269,  5.91358249,  5.91001473,  5.90692918,  5.90424984,\n",
            "        5.90191267,  5.89986376,  5.89805767,  5.89645614,  5.89502695,\n",
            "        5.89374295,  5.89258128,  5.89152267,  5.8905509 ,  5.88965231,\n",
            "        5.88881538,  5.88803043,  5.88728928,  5.88658506,  5.88591197,\n",
            "        5.88526513,  5.88464043,  5.88403441,  5.88344416,  5.88286721,\n",
            "        5.88230149,  5.88174527,  5.88119707,  5.88065566,  5.88012   ,\n",
            "        5.87958921,  5.87906254,  5.87853939,  5.87801921,  5.87750158,\n",
            "        5.87698612,  5.87647251,  5.87596049,  5.87544985,  5.87494038,\n",
            "        5.87443195,  5.8739244 ,  5.87341763,  5.87291154,  5.87240607,\n",
            "        5.87190113,  5.87139667,  5.87089265,  5.87038902,  5.86988575,\n",
            "        5.86938282,  5.86888019,  5.86837785,  5.86787579,  5.86737398,\n",
            "        5.86687242,  5.86637109,  5.86586998,  5.8653691 ,  5.86486843,\n",
            "        5.86436797,  5.86386771,  5.86336764,  5.86286778,  5.86236811,\n",
            "        5.86186863,  5.86136934,  5.86087024,  5.86037133,  5.8598726 ,\n",
            "        5.85937406,  5.8588757 ,  5.85837752,  5.85787953,  5.85738171,\n",
            "        5.85688408,  5.85638663,  5.85588937,  5.85539228,  5.85489537,\n",
            "        5.85439864,  5.85390209,  5.85340572,  5.85290954,  5.85241353,\n",
            "        5.8519177 ,  5.85142204,  5.85092657,  5.85043128,  5.84993616,\n",
            "        5.84944123,  5.84894647,  5.84845189,  5.84795749,  5.84746327,\n",
            "        5.84696922,  5.84647535,  5.84598167,  5.84548816,  5.84499482,\n",
            "        5.84450167,  5.84400869,  5.84351589,  5.84302327,  5.84253083,\n",
            "        5.84203856,  5.84154647,  5.84105456,  5.84056283,  5.84007127,\n",
            "        5.83957989,  5.83908869,  5.83859767,  5.83810682,  5.83761615,\n",
            "        5.83712565,  5.83663534,  5.83614519,  5.83565523,  5.83516544,\n",
            "        5.83467583,  5.8341864 ,  5.83369714,  5.83320806,  5.83271915,\n",
            "        5.83223042,  5.83174187,  5.83125349,  5.83076529,  5.83027727,\n",
            "        5.82978942,  5.82930175,  5.82881425,  5.82832693,  5.82783978,\n",
            "        5.82735281,  5.82686602,  5.8263794 ,  5.82589296,  5.82540669,\n",
            "        5.8249206 ,  5.82443468,  5.82394893,  5.82346337,  5.82297798,\n",
            "        5.82249276,  5.82200772,  5.82152285,  5.82103815,  5.82055364,\n",
            "        5.82006929,  5.81958512,  5.81910113,  5.81861731,  5.81813366,\n",
            "        5.81765019,  5.8171669 ,  5.81668377,  5.81620083,  5.81571805,\n",
            "        5.81523545,  5.81475302,  5.81427077,  5.81378869,  5.81330679,\n",
            "        5.81282506,  5.8123435 ,  5.81186212,  5.81138091,  5.81089987,\n",
            "        5.81041901,  5.80993832,  5.8094578 ,  5.80897745,  5.80849728,\n",
            "        5.80801729,  5.80753746,  5.80705781,  5.80657833,  5.80609903,\n",
            "        5.80561989,  5.80514093,  5.80466215,  5.80418353,  5.80370509,\n",
            "        5.80322682,  5.80274872,  5.8022708 ,  5.80179304,  5.80131546,\n",
            "        5.80083806,  5.80036082,  5.79988376,  5.79940686,  5.79893014,\n",
            "        5.79845359,  5.79797722,  5.79750101,  5.79702498,  5.79654912,\n",
            "        5.79607343,  5.79559791,  5.79512256,  5.79464739,  5.79417238,\n",
            "        5.79369755,  5.79322289,  5.79274839,  5.79227407,  5.79179992,\n",
            "        5.79132595,  5.79085214,  5.7903785 ,  5.78990504,  5.78943174,\n",
            "        5.78895862,  5.78848566,  5.78801288,  5.78754027,  5.78706782,\n",
            "        5.78659555,  5.78612345,  5.78565152,  5.78517976,  5.78470816,\n",
            "        5.78423674,  5.78376549,  5.78329441,  5.7828235 ,  5.78235276,\n",
            "        5.78188218,  5.78141178,  5.78094155,  5.78047148,  5.78000159,\n",
            "        5.77953186,  5.77906231,  5.77859292,  5.7781237 ,  5.77765466,\n",
            "        5.77718578,  5.77671707,  5.77624853,  5.77578015,  5.77531195,\n",
            "        5.77484392,  5.77437605,  5.77390835,  5.77344082,  5.77297346,\n",
            "        5.77250627,  5.77203925,  5.7715724 ,  5.77110571,  5.77063919,\n",
            "        5.77017284,  5.76970666,  5.76924065,  5.7687748 ,  5.76830912,\n",
            "        5.76784361,  5.76737827,  5.76691309,  5.76644809,  5.76598325,\n",
            "        5.76551858,  5.76505407,  5.76458974,  5.76412557,  5.76366157,\n",
            "        5.76319773,  5.76273406,  5.76227056,  5.76180723,  5.76134406,\n",
            "        5.76088106,  5.76041823,  5.75995557,  5.75949307,  5.75903074,\n",
            "        5.75856857,  5.75810657,  5.75764474,  5.75718307,  5.75672157,\n",
            "        5.75626024,  5.75579907,  5.75533807,  5.75487724,  5.75441657,\n",
            "        5.75395607,  5.75349573,  5.75303556,  5.75257556,  5.75211572,\n",
            "        5.75165605,  5.75119654,  5.7507372 ,  5.75027803,  5.74981902,\n",
            "        5.74936017,  5.74890149,  5.74844298,  5.74798463,  5.74752645,\n",
            "        5.74706843,  5.74661057,  5.74615289,  5.74569536,  5.74523801,\n",
            "        5.74478081,  5.74432378,  5.74386692,  5.74341022,  5.74295369,\n",
            "        5.74249732,  5.74204111,  5.74158507,  5.7411292 ,  5.74067348,\n",
            "        5.74021794,  5.73976255,  5.73930733,  5.73885228,  5.73839739,\n",
            "        5.73794266,  5.7374881 ,  5.7370337 ,  5.73657946,  5.73612539,\n",
            "        5.73567148,  5.73521774,  5.73476415,  5.73431074,  5.73385748,\n",
            "        5.73340439,  5.73295146,  5.7324987 ,  5.7320461 ,  5.73159366,\n",
            "        5.73114139,  5.73068928,  5.73023733,  5.72978554,  5.72933392,\n",
            "        5.72888246,  5.72843116,  5.72798003,  5.72752905,  5.72707825,\n",
            "        5.7266276 ,  5.72617711,  5.72572679,  5.72527663,  5.72482664,\n",
            "        5.7243768 ,  5.72392713,  5.72347762,  5.72302827,  5.72257908,\n",
            "        5.72213006,  5.72168119,  5.72123249,  5.72078395,  5.72033557,\n",
            "        5.71988736,  5.7194393 ,  5.71899141,  5.71854368,  5.71809611,\n",
            "        5.7176487 ,  5.71720145,  5.71675436,  5.71630744,  5.71586068,\n",
            "        5.71541407,  5.71496763,  5.71452135,  5.71407523,  5.71362927,\n",
            "        5.71318347,  5.71273783,  5.71229236,  5.71184704,  5.71140188,\n",
            "        5.71095689,  5.71051205,  5.71006738,  5.70962286,  5.70917851,\n",
            "        5.70873431,  5.70829028,  5.7078464 ,  5.70740269,  5.70695914,\n",
            "        5.70651574,  5.70607251,  5.70562943,  5.70518652,  5.70474376,\n",
            "        5.70430117,  5.70385873,  5.70341646,  5.70297434,  5.70253238,\n",
            "        5.70209058,  5.70164894,  5.70120746,  5.70076614,  5.70032498,\n",
            "        5.69988398,  5.69944313,  5.69900245,  5.69856192,  5.69812156,\n",
            "        5.69768135,  5.6972413 ,  5.69680141,  5.69636167,  5.6959221 ,\n",
            "        5.69548269,  5.69504343,  5.69460433,  5.69416539,  5.69372661,\n",
            "        5.69328798,  5.69284952,  5.69241121,  5.69197306,  5.69153507,\n",
            "        5.69109723,  5.69065956,  5.69022204,  5.68978468,  5.68934747,\n",
            "        5.68891043,  5.68847354,  5.68803681,  5.68760024,  5.68716382,\n",
            "        5.68672756,  5.68629146,  5.68585552,  5.68541973,  5.6849841 ,\n",
            "        5.68454863,  5.68411332,  5.68367816,  5.68324316,  5.68280831,\n",
            "        5.68237362,  5.68193909,  5.68150472,  5.6810705 ,  5.68063644,\n",
            "        5.68020253,  5.67976878,  5.67933519,  5.67890175,  5.67846847,\n",
            "        5.67803535,  5.67760238,  5.67716957,  5.67673692,  5.67630442,\n",
            "        5.67587207,  5.67543988,  5.67500785,  5.67457598,  5.67414426,\n",
            "        5.67371269,  5.67328128,  5.67285003,  5.67241893,  5.67198799,\n",
            "        5.6715572 ,  5.67112657,  5.67069609,  5.67026577,  5.6698356 ,\n",
            "        5.66940559,  5.66897573,  5.66854603,  5.66811648,  5.66768709,\n",
            "        5.66725786,  5.66682877,  5.66639985,  5.66597107,  5.66554245,\n",
            "        5.66511399,  5.66468568,  5.66425753,  5.66382952,  5.66340168,\n",
            "        5.66297399,  5.66254645,  5.66211906,  5.66169183,  5.66126476,\n",
            "        5.66083784,  5.66041107,  5.65998445,  5.65955799,  5.65913169,\n",
            "        5.65870553,  5.65827953,  5.65785369,  5.657428  ,  5.65700246,\n",
            "        5.65657707,  5.65615184,  5.65572676,  5.65530183,  5.65487706,\n",
            "        5.65445244,  5.65402798,  5.65360366,  5.6531795 ,  5.6527555 ,\n",
            "        5.65233164,  5.65190794,  5.65148439,  5.65106099,  5.65063775,\n",
            "        5.65021466,  5.64979172,  5.64936893,  5.6489463 ,  5.64852382,\n",
            "        5.64810149,  5.64767931,  5.64725729,  5.64683542,  5.6464137 ,\n",
            "        5.64599213,  5.64557071,  5.64514945,  5.64472833,  5.64430737,\n",
            "        5.64388656,  5.64346591,  5.6430454 ,  5.64262505,  5.64220484,\n",
            "        5.64178479,  5.64136489,  5.64094515,  5.64052555,  5.6401061 ,\n",
            "        5.63968681,  5.63926766,  5.63884867,  5.63842983,  5.63801114,\n",
            "        5.6375926 ,  5.63717421,  5.63675598,  5.63633789,  5.63591995,\n",
            "        5.63550217,  5.63508453,  5.63466705,  5.63424971,  5.63383253,\n",
            "        5.6334155 ,  5.63299861,  5.63258188,  5.6321653 ,  5.63174887,\n",
            "        5.63133259,  5.63091645,  5.63050047,  5.63008464,  5.62966896,\n",
            "        5.62925343,  5.62883804,  5.62842281,  5.62800773,  5.6275928 ,\n",
            "        5.62717801,  5.62676338,  5.62634889,  5.62593456,  5.62552037,\n",
            "        5.62510634,  5.62469245,  5.62427871,  5.62386512,  5.62345168,\n",
            "        5.62303839,  5.62262525,  5.62221225,  5.62179941,  5.62138672,\n",
            "        5.62097417,  5.62056177,  5.62014952,  5.61973742,  5.61932547,\n",
            "        5.61891367,  5.61850201,  5.6180905 ,  5.61767915,  5.61726794,\n",
            "        5.61685688,  5.61644596,  5.6160352 ,  5.61562458,  5.61521411,\n",
            "        5.61480379,  5.61439361,  5.61398359,  5.61357371,  5.61316398,\n",
            "        5.6127544 ,  5.61234496,  5.61193568,  5.61152654,  5.61111755,\n",
            "        5.6107087 ,  5.6103    ,  5.60989145,  5.60948305,  5.6090748 ,\n",
            "        5.60866669,  5.60825873,  5.60785091,  5.60744325,  5.60703573,\n",
            "        5.60662835,  5.60622113,  5.60581405,  5.60540711,  5.60500033,\n",
            "        5.60459369,  5.6041872 ,  5.60378085,  5.60337465,  5.6029686 ,\n",
            "        5.60256269,  5.60215693,  5.60175131,  5.60134585,  5.60094052,\n",
            "        5.60053535,  5.60013032,  5.59972543,  5.5993207 ,  5.59891611,\n",
            "        5.59851166,  5.59810736,  5.5977032 ,  5.5972992 ,  5.59689533,\n",
            "        5.59649161,  5.59608804,  5.59568462,  5.59528133,  5.5948782 ,\n",
            "        5.59447521,  5.59407236,  5.59366966,  5.59326711,  5.5928647 ,\n",
            "        5.59246243,  5.59206031,  5.59165834,  5.59125651,  5.59085482,\n",
            "        5.59045328,  5.59005189,  5.58965064,  5.58924953,  5.58884857,\n",
            "        5.58844775,  5.58804708,  5.58764655,  5.58724617,  5.58684593,\n",
            "        5.58644584,  5.58604588,  5.58564608,  5.58524642,  5.5848469 ,\n",
            "        5.58444752,  5.58404829,  5.58364921,  5.58325026,  5.58285146,\n",
            "        5.58245281,  5.5820543 ,  5.58165593,  5.58125771,  5.58085963,\n",
            "        5.58046169,  5.5800639 ,  5.57966625,  5.57926874,  5.57887138,\n",
            "        5.57847415,  5.57807708,  5.57768014,  5.57728335,  5.57688671,\n",
            "        5.5764902 ,  5.57609384,  5.57569762,  5.57530154,  5.57490561,\n",
            "        5.57450982,  5.57411417,  5.57371867,  5.5733233 ,  5.57292808,\n",
            "        5.57253301,  5.57213807,  5.57174328,  5.57134863,  5.57095412,\n",
            "        5.57055975,  5.57016553,  5.56977145,  5.56937751,  5.56898371,\n",
            "        5.56859005,  5.56819654,  5.56780317,  5.56740994,  5.56701685,\n",
            "        5.5666239 ,  5.56623109,  5.56583843,  5.56544591,  5.56505353,\n",
            "        5.56466129,  5.56426919,  5.56387724,  5.56348542,  5.56309375,\n",
            "        5.56270221,  5.56231082,  5.56191957,  5.56152846,  5.56113749,\n",
            "        5.56074667,  5.56035598,  5.55996543,  5.55957503,  5.55918477,\n",
            "        5.55879464,  5.55840466,  5.55801482,  5.55762512,  5.55723555,\n",
            "        5.55684613,  5.55645685,  5.55606771,  5.55567871,  5.55528985,\n",
            "        5.55490113,  5.55451255,  5.55412411,  5.55373582,  5.55334766,\n",
            "        5.55295964,  5.55257176,  5.55218402,  5.55179642,  5.55140896,\n",
            "        5.55102164,  5.55063446,  5.55024742,  5.54986051,  5.54947375,\n",
            "        5.54908713,  5.54870065,  5.5483143 ,  5.5479281 ,  5.54754203,\n",
            "        5.5471561 ,  5.54677032,  5.54638467,  5.54599916,  5.54561379,\n",
            "        5.54522856,  5.54484347,  5.54445851,  5.5440737 ,  5.54368902,\n",
            "        5.54330448,  5.54292008,  5.54253582,  5.5421517 ,  5.54176772,\n",
            "        5.54138387,  5.54100017,  5.5406166 ,  5.54023317,  5.53984988,\n",
            "        5.53946672,  5.53908371,  5.53870083,  5.53831809,  5.53793549,\n",
            "        5.53755303,  5.5371707 ,  5.53678851,  5.53640646,  5.53602455,\n",
            "        5.53564278,  5.53526114,  5.53487964,  5.53449828,  5.53411706,\n",
            "        5.53373597,  5.53335502,  5.53297421,  5.53259353,  5.53221299,\n",
            "        5.53183259,  5.53145233,  5.5310722 ,  5.53069221,  5.53031236,\n",
            "        5.52993265,  5.52955307,  5.52917363,  5.52879432,  5.52841515,\n",
            "        5.52803612,  5.52765723,  5.52727847,  5.52689985,  5.52652136,\n",
            "        5.52614301,  5.5257648 ,  5.52538672,  5.52500878,  5.52463098,\n",
            "        5.52425331,  5.52387578,  5.52349839,  5.52312113,  5.52274401,\n",
            "        5.52236702,  5.52199017,  5.52161345,  5.52123687,  5.52086043,\n",
            "        5.52048412,  5.52010795,  5.51973191,  5.51935601,  5.51898024,\n",
            "        5.51860461,  5.51822912,  5.51785376,  5.51747854,  5.51710345,\n",
            "        5.51672849,  5.51635367,  5.51597899,  5.51560444,  5.51523003,\n",
            "        5.51485575,  5.51448161,  5.5141076 ,  5.51373372,  5.51335999,\n",
            "        5.51298638,  5.51261291,  5.51223958,  5.51186638,  5.51149331,\n",
            "        5.51112038,  5.51074758,  5.51037492,  5.51000239,  5.50963   ,\n",
            "        5.50925774,  5.50888561,  5.50851362,  5.50814176,  5.50777004,\n",
            "        5.50739845,  5.507027  ,  5.50665567,  5.50628449,  5.50591343,\n",
            "        5.50554251,  5.50517173,  5.50480108,  5.50443056,  5.50406017,\n",
            "        5.50368992,  5.5033198 ,  5.50294982,  5.50257996,  5.50221025,\n",
            "        5.50184066,  5.50147121,  5.50110189,  5.50073271,  5.50036365,\n",
            "        5.49999473,  5.49962595,  5.49925729,  5.49888877,  5.49852039,\n",
            "        5.49815213,  5.49778401,  5.49741602,  5.49704816,  5.49668044,\n",
            "        5.49631285,  5.49594539,  5.49557806,  5.49521087,  5.49484381,\n",
            "        5.49447688,  5.49411008,  5.49374341,  5.49337688,  5.49301048,\n",
            "        5.49264421,  5.49227808,  5.49191207,  5.4915462 ,  5.49118046,\n",
            "        5.49081485,  5.49044937,  5.49008403,  5.48971881,  5.48935373,\n",
            "        5.48898878,  5.48862396,  5.48825928,  5.48789472,  5.48753029,\n",
            "        5.487166  ,  5.48680184,  5.48643781,  5.48607391,  5.48571014,\n",
            "        5.48534651,  5.484983  ,  5.48461963,  5.48425638,  5.48389327,\n",
            "        5.48353029,  5.48316744,  5.48280472,  5.48244213,  5.48207967,\n",
            "        5.48171734,  5.48135514,  5.48099307,  5.48063114,  5.48026933]))\n"
          ]
        }
      ]
    }
  ]
}
